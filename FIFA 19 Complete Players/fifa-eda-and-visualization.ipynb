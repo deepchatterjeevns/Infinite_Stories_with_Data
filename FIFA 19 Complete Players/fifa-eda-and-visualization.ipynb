{
 "cells": [
  {
   "cell_type": "code",
   "execution_count": 1,
   "metadata": {
    "_cell_guid": "79c7e3d0-c299-4dcb-8224-4455121ee9b0",
    "_kg_hide-input": true,
    "_uuid": "d629ff2d2480ee46fbb7e2d37f6b5fab8052498a"
   },
   "outputs": [],
   "source": [
    "import numpy as np\n",
    "import pandas as pd\n",
    "import matplotlib.pyplot as plt\n",
    "%matplotlib inline\n",
    "import seaborn as sns\n",
    "import plotly.express as px\n",
    "\n",
    "plt.rcParams['figure.figsize'] = 8, 5\n",
    "plt.style.use(\"fivethirtyeight\")\n",
    "pd.options.plotting.backend = \"plotly\"\n",
    "\n",
    "data = pd.read_csv(\"../input/fifa19/data.csv\")"
   ]
  },
  {
   "cell_type": "markdown",
   "execution_count": null,
   "metadata": {},
   "source": [
    "<p style=\"font-size:15px\">FIFA was founded in 1904 to oversee international competition among the national associations of Belgium, Denmark, France, Germany, the Netherlands, Spain, Sweden, and Switzerland. Headquartered in Zürich, its membership now comprises 211 national associations. These national associations must each also be members of one of the six regional confederations into which the world is divided: Africa, Asia, Europe, North & Central America and the Caribbean, Oceania, and South America.<br><br>Today, FIFA outlines a number of objectives in the organizational Statues, including growing football internationally, providing efforts to ensure football is accessible to everyone, and advocating for integrity and fair play. FIFA is responsible for the organization and promotion of football's major international tournaments, notably the World Cup which commenced in 1930 and the Women's World Cup which commenced in 1991.</p>"
   ]
  },
  {
   "cell_type": "markdown",
   "execution_count": null,
   "metadata": {},
   "source": [
    "<img src=\"data:image/jpeg;base64,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\" height=\"300px\" width=\"600px\">"
   ]
  },
  {
   "cell_type": "code",
   "execution_count": 2,
   "metadata": {
    "_kg_hide-input": true
   },
   "outputs": [
    {
     "name": "stdout",
     "output_type": "stream",
     "text": [
      "BMI Ratio of top 10 players\n"
     ]
    },
    {
     "data": {
      "text/html": [
       "        <script type=\"text/javascript\">\n",
       "        window.PlotlyConfig = {MathJaxConfig: 'local'};\n",
       "        if (window.MathJax) {MathJax.Hub.Config({SVG: {font: \"STIX-Web\"}});}\n",
       "        if (typeof require !== 'undefined') {\n",
       "        require.undef(\"plotly\");\n",
       "        requirejs.config({\n",
       "            paths: {\n",
       "                'plotly': ['https://cdn.plot.ly/plotly-latest.min']\n",
       "            }\n",
       "        });\n",
       "        require(['plotly'], function(Plotly) {\n",
       "            window._Plotly = Plotly;\n",
       "        });\n",
       "        }\n",
       "        </script>\n",
       "        "
      ]
     },
     "metadata": {},
     "output_type": "display_data"
    },
    {
     "data": {
      "text/html": [
       "<div>\n",
       "        \n",
       "        \n",
       "            <div id=\"85904a98-0146-4ddc-8e1e-857f04383a3c\" class=\"plotly-graph-div\" style=\"height:525px; width:100%;\"></div>\n",
       "            <script type=\"text/javascript\">\n",
       "                require([\"plotly\"], function(Plotly) {\n",
       "                    window.PLOTLYENV=window.PLOTLYENV || {};\n",
       "                    \n",
       "                if (document.getElementById(\"85904a98-0146-4ddc-8e1e-857f04383a3c\")) {\n",
       "                    Plotly.newPlot(\n",
       "                        '85904a98-0146-4ddc-8e1e-857f04383a3c',\n",
       "                        [{\"alignmentgroup\": \"True\", \"hovertemplate\": \"Name=%{x}<br>bmi=%{marker.color}<extra></extra>\", \"legendgroup\": \"\", \"marker\": {\"color\": [20.44736842105263, 21.2334693877551, 22.14870825456837, 23.09857142857143, 23.476808905380334, 23.493243243243242, 23.672448979591838, 23.77294685990338, 24.64864864864865, 24.900200490086878], \"coloraxis\": \"coloraxis\"}, \"name\": \"\", \"offsetgroup\": \"\", \"orientation\": \"v\", \"showlegend\": false, \"textposition\": \"auto\", \"type\": \"bar\", \"x\": [\"De Gea\", \"O. Demb\\u00e9l\\u00e9\", \"Neymar Jr\", \"K. Mbapp\\u00e9\", \"G. Donnarumma\", \"Cristiano Ronaldo\", \"P. Dybala\", \"Vin\\u00edcius J\\u00fanior\", \"J. Oblak\", \"L. Messi\"], \"xaxis\": \"x\", \"y\": [20.44736842105263, 21.2334693877551, 22.14870825456837, 23.09857142857143, 23.476808905380334, 23.493243243243242, 23.672448979591838, 23.77294685990338, 24.64864864864865, 24.900200490086878], \"yaxis\": \"y\"}],\n",
       "                        {\"barmode\": \"relative\", \"coloraxis\": {\"colorbar\": {\"title\": {\"text\": \"bmi\"}}, \"colorscale\": [[0.0, \"#0d0887\"], [0.1111111111111111, \"#46039f\"], [0.2222222222222222, \"#7201a8\"], [0.3333333333333333, \"#9c179e\"], [0.4444444444444444, \"#bd3786\"], [0.5555555555555556, \"#d8576b\"], [0.6666666666666666, \"#ed7953\"], [0.7777777777777778, \"#fb9f3a\"], [0.8888888888888888, \"#fdca26\"], [1.0, \"#f0f921\"]]}, \"legend\": {\"tracegroupgap\": 0}, \"margin\": {\"t\": 60}, \"template\": {\"data\": {\"bar\": [{\"error_x\": {\"color\": \"#2a3f5f\"}, \"error_y\": {\"color\": \"#2a3f5f\"}, \"marker\": {\"line\": {\"color\": \"#E5ECF6\", \"width\": 0.5}}, \"type\": \"bar\"}], \"barpolar\": [{\"marker\": {\"line\": {\"color\": \"#E5ECF6\", \"width\": 0.5}}, \"type\": \"barpolar\"}], \"carpet\": [{\"aaxis\": {\"endlinecolor\": \"#2a3f5f\", \"gridcolor\": \"white\", \"linecolor\": \"white\", \"minorgridcolor\": \"white\", \"startlinecolor\": \"#2a3f5f\"}, \"baxis\": {\"endlinecolor\": \"#2a3f5f\", \"gridcolor\": \"white\", \"linecolor\": \"white\", \"minorgridcolor\": \"white\", \"startlinecolor\": \"#2a3f5f\"}, \"type\": \"carpet\"}], \"choropleth\": [{\"colorbar\": {\"outlinewidth\": 0, \"ticks\": \"\"}, \"type\": \"choropleth\"}], \"contour\": [{\"colorbar\": {\"outlinewidth\": 0, \"ticks\": \"\"}, \"colorscale\": [[0.0, \"#0d0887\"], [0.1111111111111111, \"#46039f\"], [0.2222222222222222, \"#7201a8\"], [0.3333333333333333, \"#9c179e\"], [0.4444444444444444, \"#bd3786\"], [0.5555555555555556, \"#d8576b\"], [0.6666666666666666, \"#ed7953\"], [0.7777777777777778, \"#fb9f3a\"], [0.8888888888888888, \"#fdca26\"], [1.0, \"#f0f921\"]], \"type\": \"contour\"}], \"contourcarpet\": [{\"colorbar\": {\"outlinewidth\": 0, \"ticks\": \"\"}, \"type\": \"contourcarpet\"}], \"heatmap\": [{\"colorbar\": {\"outlinewidth\": 0, \"ticks\": \"\"}, \"colorscale\": [[0.0, \"#0d0887\"], [0.1111111111111111, \"#46039f\"], [0.2222222222222222, \"#7201a8\"], [0.3333333333333333, \"#9c179e\"], [0.4444444444444444, \"#bd3786\"], [0.5555555555555556, \"#d8576b\"], [0.6666666666666666, \"#ed7953\"], [0.7777777777777778, \"#fb9f3a\"], [0.8888888888888888, \"#fdca26\"], [1.0, \"#f0f921\"]], \"type\": \"heatmap\"}], \"heatmapgl\": [{\"colorbar\": {\"outlinewidth\": 0, \"ticks\": \"\"}, \"colorscale\": [[0.0, \"#0d0887\"], [0.1111111111111111, \"#46039f\"], [0.2222222222222222, \"#7201a8\"], [0.3333333333333333, \"#9c179e\"], [0.4444444444444444, \"#bd3786\"], [0.5555555555555556, \"#d8576b\"], [0.6666666666666666, \"#ed7953\"], [0.7777777777777778, \"#fb9f3a\"], [0.8888888888888888, \"#fdca26\"], [1.0, \"#f0f921\"]], \"type\": \"heatmapgl\"}], \"histogram\": [{\"marker\": {\"colorbar\": {\"outlinewidth\": 0, \"ticks\": \"\"}}, \"type\": \"histogram\"}], \"histogram2d\": [{\"colorbar\": {\"outlinewidth\": 0, \"ticks\": \"\"}, \"colorscale\": [[0.0, \"#0d0887\"], [0.1111111111111111, \"#46039f\"], [0.2222222222222222, \"#7201a8\"], [0.3333333333333333, \"#9c179e\"], [0.4444444444444444, \"#bd3786\"], [0.5555555555555556, \"#d8576b\"], [0.6666666666666666, \"#ed7953\"], [0.7777777777777778, \"#fb9f3a\"], [0.8888888888888888, \"#fdca26\"], [1.0, \"#f0f921\"]], \"type\": \"histogram2d\"}], \"histogram2dcontour\": [{\"colorbar\": {\"outlinewidth\": 0, \"ticks\": \"\"}, \"colorscale\": [[0.0, \"#0d0887\"], [0.1111111111111111, \"#46039f\"], [0.2222222222222222, \"#7201a8\"], [0.3333333333333333, \"#9c179e\"], [0.4444444444444444, \"#bd3786\"], [0.5555555555555556, \"#d8576b\"], [0.6666666666666666, \"#ed7953\"], [0.7777777777777778, \"#fb9f3a\"], [0.8888888888888888, \"#fdca26\"], [1.0, \"#f0f921\"]], \"type\": \"histogram2dcontour\"}], \"mesh3d\": [{\"colorbar\": {\"outlinewidth\": 0, \"ticks\": \"\"}, \"type\": \"mesh3d\"}], \"parcoords\": [{\"line\": {\"colorbar\": {\"outlinewidth\": 0, \"ticks\": \"\"}}, \"type\": \"parcoords\"}], \"pie\": [{\"automargin\": true, \"type\": \"pie\"}], \"scatter\": [{\"marker\": {\"colorbar\": {\"outlinewidth\": 0, \"ticks\": \"\"}}, \"type\": \"scatter\"}], \"scatter3d\": [{\"line\": {\"colorbar\": {\"outlinewidth\": 0, \"ticks\": \"\"}}, \"marker\": {\"colorbar\": {\"outlinewidth\": 0, \"ticks\": \"\"}}, \"type\": \"scatter3d\"}], \"scattercarpet\": [{\"marker\": {\"colorbar\": {\"outlinewidth\": 0, \"ticks\": \"\"}}, \"type\": \"scattercarpet\"}], \"scattergeo\": [{\"marker\": {\"colorbar\": {\"outlinewidth\": 0, \"ticks\": \"\"}}, \"type\": \"scattergeo\"}], \"scattergl\": [{\"marker\": {\"colorbar\": {\"outlinewidth\": 0, \"ticks\": \"\"}}, \"type\": \"scattergl\"}], \"scattermapbox\": [{\"marker\": {\"colorbar\": {\"outlinewidth\": 0, \"ticks\": \"\"}}, \"type\": \"scattermapbox\"}], \"scatterpolar\": [{\"marker\": {\"colorbar\": {\"outlinewidth\": 0, \"ticks\": \"\"}}, \"type\": \"scatterpolar\"}], \"scatterpolargl\": [{\"marker\": {\"colorbar\": {\"outlinewidth\": 0, \"ticks\": \"\"}}, \"type\": \"scatterpolargl\"}], \"scatterternary\": [{\"marker\": {\"colorbar\": {\"outlinewidth\": 0, \"ticks\": \"\"}}, \"type\": \"scatterternary\"}], \"surface\": [{\"colorbar\": {\"outlinewidth\": 0, \"ticks\": \"\"}, \"colorscale\": [[0.0, \"#0d0887\"], [0.1111111111111111, \"#46039f\"], [0.2222222222222222, \"#7201a8\"], [0.3333333333333333, \"#9c179e\"], [0.4444444444444444, \"#bd3786\"], [0.5555555555555556, \"#d8576b\"], [0.6666666666666666, \"#ed7953\"], [0.7777777777777778, \"#fb9f3a\"], [0.8888888888888888, \"#fdca26\"], [1.0, \"#f0f921\"]], \"type\": \"surface\"}], \"table\": [{\"cells\": {\"fill\": {\"color\": \"#EBF0F8\"}, \"line\": {\"color\": \"white\"}}, \"header\": {\"fill\": {\"color\": \"#C8D4E3\"}, \"line\": {\"color\": \"white\"}}, \"type\": \"table\"}]}, \"layout\": {\"annotationdefaults\": {\"arrowcolor\": \"#2a3f5f\", \"arrowhead\": 0, \"arrowwidth\": 1}, \"coloraxis\": {\"colorbar\": {\"outlinewidth\": 0, \"ticks\": \"\"}}, \"colorscale\": {\"diverging\": [[0, \"#8e0152\"], [0.1, \"#c51b7d\"], [0.2, \"#de77ae\"], [0.3, \"#f1b6da\"], [0.4, \"#fde0ef\"], [0.5, \"#f7f7f7\"], [0.6, \"#e6f5d0\"], [0.7, \"#b8e186\"], [0.8, \"#7fbc41\"], [0.9, \"#4d9221\"], [1, \"#276419\"]], \"sequential\": [[0.0, \"#0d0887\"], [0.1111111111111111, \"#46039f\"], [0.2222222222222222, \"#7201a8\"], [0.3333333333333333, \"#9c179e\"], [0.4444444444444444, \"#bd3786\"], [0.5555555555555556, \"#d8576b\"], [0.6666666666666666, \"#ed7953\"], [0.7777777777777778, \"#fb9f3a\"], [0.8888888888888888, \"#fdca26\"], [1.0, \"#f0f921\"]], \"sequentialminus\": [[0.0, \"#0d0887\"], [0.1111111111111111, \"#46039f\"], [0.2222222222222222, \"#7201a8\"], [0.3333333333333333, \"#9c179e\"], [0.4444444444444444, \"#bd3786\"], [0.5555555555555556, \"#d8576b\"], [0.6666666666666666, \"#ed7953\"], [0.7777777777777778, \"#fb9f3a\"], [0.8888888888888888, \"#fdca26\"], [1.0, \"#f0f921\"]]}, \"colorway\": [\"#636efa\", \"#EF553B\", \"#00cc96\", \"#ab63fa\", \"#FFA15A\", \"#19d3f3\", \"#FF6692\", \"#B6E880\", \"#FF97FF\", \"#FECB52\"], \"font\": {\"color\": \"#2a3f5f\"}, \"geo\": {\"bgcolor\": \"white\", \"lakecolor\": \"white\", \"landcolor\": \"#E5ECF6\", \"showlakes\": true, \"showland\": true, \"subunitcolor\": \"white\"}, \"hoverlabel\": {\"align\": \"left\"}, \"hovermode\": \"closest\", \"mapbox\": {\"style\": \"light\"}, \"paper_bgcolor\": \"white\", \"plot_bgcolor\": \"#E5ECF6\", \"polar\": {\"angularaxis\": {\"gridcolor\": \"white\", \"linecolor\": \"white\", \"ticks\": \"\"}, \"bgcolor\": \"#E5ECF6\", \"radialaxis\": {\"gridcolor\": \"white\", \"linecolor\": \"white\", \"ticks\": \"\"}}, \"scene\": {\"xaxis\": {\"backgroundcolor\": \"#E5ECF6\", \"gridcolor\": \"white\", \"gridwidth\": 2, \"linecolor\": \"white\", \"showbackground\": true, \"ticks\": \"\", \"zerolinecolor\": \"white\"}, \"yaxis\": {\"backgroundcolor\": \"#E5ECF6\", \"gridcolor\": \"white\", \"gridwidth\": 2, \"linecolor\": \"white\", \"showbackground\": true, \"ticks\": \"\", \"zerolinecolor\": \"white\"}, \"zaxis\": {\"backgroundcolor\": \"#E5ECF6\", \"gridcolor\": \"white\", \"gridwidth\": 2, \"linecolor\": \"white\", \"showbackground\": true, \"ticks\": \"\", \"zerolinecolor\": \"white\"}}, \"shapedefaults\": {\"line\": {\"color\": \"#2a3f5f\"}}, \"ternary\": {\"aaxis\": {\"gridcolor\": \"white\", \"linecolor\": \"white\", \"ticks\": \"\"}, \"baxis\": {\"gridcolor\": \"white\", \"linecolor\": \"white\", \"ticks\": \"\"}, \"bgcolor\": \"#E5ECF6\", \"caxis\": {\"gridcolor\": \"white\", \"linecolor\": \"white\", \"ticks\": \"\"}}, \"title\": {\"x\": 0.05}, \"xaxis\": {\"automargin\": true, \"gridcolor\": \"white\", \"linecolor\": \"white\", \"ticks\": \"\", \"title\": {\"standoff\": 15}, \"zerolinecolor\": \"white\", \"zerolinewidth\": 2}, \"yaxis\": {\"automargin\": true, \"gridcolor\": \"white\", \"linecolor\": \"white\", \"ticks\": \"\", \"title\": {\"standoff\": 15}, \"zerolinecolor\": \"white\", \"zerolinewidth\": 2}}}, \"xaxis\": {\"anchor\": \"y\", \"domain\": [0.0, 1.0], \"title\": {\"text\": \"Name\"}}, \"yaxis\": {\"anchor\": \"x\", \"domain\": [0.0, 1.0], \"title\": {\"text\": \"bmi\"}}},\n",
       "                        {\"responsive\": true}\n",
       "                    ).then(function(){\n",
       "                            \n",
       "var gd = document.getElementById('85904a98-0146-4ddc-8e1e-857f04383a3c');\n",
       "var x = new MutationObserver(function (mutations, observer) {{\n",
       "        var display = window.getComputedStyle(gd).display;\n",
       "        if (!display || display === 'none') {{\n",
       "            console.log([gd, 'removed!']);\n",
       "            Plotly.purge(gd);\n",
       "            observer.disconnect();\n",
       "        }}\n",
       "}});\n",
       "\n",
       "// Listen for the removal of the full notebook cells\n",
       "var notebookContainer = gd.closest('#notebook-container');\n",
       "if (notebookContainer) {{\n",
       "    x.observe(notebookContainer, {childList: true});\n",
       "}}\n",
       "\n",
       "// Listen for the clearing of the current output cell\n",
       "var outputEl = gd.closest('.output');\n",
       "if (outputEl) {{\n",
       "    x.observe(outputEl, {childList: true});\n",
       "}}\n",
       "\n",
       "                        })\n",
       "                };\n",
       "                });\n",
       "            </script>\n",
       "        </div>"
      ]
     },
     "metadata": {},
     "output_type": "display_data"
    }
   ],
   "source": [
    "def height_to_inches(height):\n",
    "    res = height\n",
    "    try:\n",
    "        lst = height.split(\"'\")\n",
    "        lst[0] = int(lst[0])\n",
    "        lst[1] = int(lst[1])\n",
    "        res = lst[0]*12 + lst[1]\n",
    "    except:\n",
    "        pass\n",
    "    return res\n",
    "\n",
    "def weight_in_int(weight):\n",
    "    res = weight\n",
    "    try:\n",
    "        res = float(weight[:-3])\n",
    "    except:\n",
    "        pass\n",
    "    return res\n",
    "\n",
    "df = data.copy()\n",
    "df['height_inches'] = df['Height'].apply(height_to_inches)\n",
    "df['weight_int'] = df['Weight'].apply(weight_in_int)\n",
    "df['bmi'] = (703 * df['weight_int']) / (df['height_inches'] ** 2)\n",
    "df = df.sort_values('Potential', ascending=False).head(10)\n",
    "df = df.sort_values('bmi')\n",
    "print('BMI Ratio of top 10 players')\n",
    "df.plot(kind='bar', x='Name', y='bmi', color='bmi')"
   ]
  },
  {
   "cell_type": "markdown",
   "execution_count": null,
   "metadata": {},
   "source": [
    "# Let's clean the data first"
   ]
  },
  {
   "cell_type": "code",
   "execution_count": 3,
   "metadata": {},
   "outputs": [],
   "source": [
    "#cleaning height and weight\n",
    "\n",
    "df['height'] = df['Height'].apply(height_to_inches)\n",
    "df['weight'] = df['Weight'].apply(weight_in_int)"
   ]
  },
  {
   "cell_type": "code",
   "execution_count": 4,
   "metadata": {},
   "outputs": [],
   "source": [
    "#cleaning value and wage\n",
    "\n",
    "def value(value):\n",
    "    if 'M' in value:\n",
    "        value = float(value.replace('M',''))\n",
    "        value = value*1000000\n",
    "    elif 'K' in value:\n",
    "        value = float(value.replace('K',''))\n",
    "        value = value*1000\n",
    "    return value\n",
    "\n",
    "def wage(wage):\n",
    "    wage = wage.replace('€','')\n",
    "    if 'K' in wage:\n",
    "        wage = float(wage.replace('K',''))\n",
    "        wage = wage*1000\n",
    "    return wage\n",
    "        \n",
    "data['Value'] = data['Value'].str.replace('€','')\n",
    "data['Value'] = data['Value'].apply(value)\n",
    "data['Value'] = data['Value'].astype('float')\n",
    "data['Wage'] = data['Wage'].apply(wage)\n",
    "data['Wage'] = data['Wage'].astype('float')"
   ]
  },
  {
   "cell_type": "code",
   "execution_count": 5,
   "metadata": {},
   "outputs": [],
   "source": [
    "#dropping features\n",
    "\n",
    "drop_features = ['Height','Weight','Unnamed: 0','ID','Photo','Flag','Club Logo']\n",
    "\n",
    "data.drop(drop_features, axis=1, inplace=True)"
   ]
  },
  {
   "cell_type": "markdown",
   "execution_count": null,
   "metadata": {},
   "source": [
    "# Analysis of the data"
   ]
  },
  {
   "cell_type": "code",
   "execution_count": 6,
   "metadata": {
    "_kg_hide-input": true
   },
   "outputs": [
    {
     "name": "stdout",
     "output_type": "stream",
     "text": [
      "DISTRIBUTION OF VALUES\n"
     ]
    },
    {
     "data": {
      "image/png": "[encoded data removed]",
      "text/plain": [
       "<Figure size 576x360 with 1 Axes>"
      ]
     },
     "metadata": {},
     "output_type": "display_data"
    },
    {
     "name": "stdout",
     "output_type": "stream",
     "text": [
      "TOP 5 MOST VALUABLE PLAYERS\n"
     ]
    },
    {
     "data": {
      "text/html": [
       "<div>\n",
       "        \n",
       "        \n",
       "            <div id=\"3bfc5257-ec0f-427b-a115-0a0a5c0e96bf\" class=\"plotly-graph-div\" style=\"height:525px; width:100%;\"></div>\n",
       "            <script type=\"text/javascript\">\n",
       "                require([\"plotly\"], function(Plotly) {\n",
       "                    window.PLOTLYENV=window.PLOTLYENV || {};\n",
       "                    \n",
       "                if (document.getElementById(\"3bfc5257-ec0f-427b-a115-0a0a5c0e96bf\")) {\n",
       "                    Plotly.newPlot(\n",
       "                        '3bfc5257-ec0f-427b-a115-0a0a5c0e96bf',\n",
       "                        [{\"alignmentgroup\": \"True\", \"hovertemplate\": \"Name=%{x}<br>Value=%{y}<br>Potential=%{marker.color}<extra></extra>\", \"legendgroup\": \"\", \"marker\": {\"color\": [94, 91, 92, 94, 93], \"coloraxis\": \"coloraxis\"}, \"name\": \"\", \"offsetgroup\": \"\", \"orientation\": \"v\", \"showlegend\": false, \"textposition\": \"auto\", \"type\": \"bar\", \"x\": [\"P. Dybala\", \"E. Hazard\", \"K. De Bruyne\", \"L. Messi\", \"Neymar Jr\"], \"xaxis\": \"x\", \"y\": [89000000.0, 93000000.0, 102000000.0, 110500000.0, 118500000.0], \"yaxis\": \"y\"}],\n",
       "                        {\"barmode\": \"relative\", \"coloraxis\": {\"colorbar\": {\"title\": {\"text\": \"Potential\"}}, \"colorscale\": [[0.0, \"#0d0887\"], [0.1111111111111111, \"#46039f\"], [0.2222222222222222, \"#7201a8\"], [0.3333333333333333, \"#9c179e\"], [0.4444444444444444, \"#bd3786\"], [0.5555555555555556, \"#d8576b\"], [0.6666666666666666, \"#ed7953\"], [0.7777777777777778, \"#fb9f3a\"], [0.8888888888888888, \"#fdca26\"], [1.0, \"#f0f921\"]]}, \"legend\": {\"tracegroupgap\": 0}, \"margin\": {\"t\": 60}, \"template\": {\"data\": {\"bar\": [{\"error_x\": {\"color\": \"#2a3f5f\"}, \"error_y\": {\"color\": \"#2a3f5f\"}, \"marker\": {\"line\": {\"color\": \"#E5ECF6\", \"width\": 0.5}}, \"type\": \"bar\"}], \"barpolar\": [{\"marker\": {\"line\": {\"color\": \"#E5ECF6\", \"width\": 0.5}}, \"type\": \"barpolar\"}], \"carpet\": [{\"aaxis\": {\"endlinecolor\": \"#2a3f5f\", \"gridcolor\": \"white\", \"linecolor\": \"white\", \"minorgridcolor\": \"white\", \"startlinecolor\": \"#2a3f5f\"}, \"baxis\": {\"endlinecolor\": \"#2a3f5f\", \"gridcolor\": \"white\", \"linecolor\": \"white\", \"minorgridcolor\": \"white\", \"startlinecolor\": \"#2a3f5f\"}, \"type\": \"carpet\"}], \"choropleth\": [{\"colorbar\": {\"outlinewidth\": 0, \"ticks\": \"\"}, \"type\": \"choropleth\"}], \"contour\": [{\"colorbar\": {\"outlinewidth\": 0, \"ticks\": \"\"}, \"colorscale\": [[0.0, \"#0d0887\"], [0.1111111111111111, \"#46039f\"], [0.2222222222222222, \"#7201a8\"], [0.3333333333333333, \"#9c179e\"], [0.4444444444444444, \"#bd3786\"], [0.5555555555555556, \"#d8576b\"], [0.6666666666666666, \"#ed7953\"], [0.7777777777777778, \"#fb9f3a\"], [0.8888888888888888, \"#fdca26\"], [1.0, \"#f0f921\"]], \"type\": \"contour\"}], \"contourcarpet\": [{\"colorbar\": {\"outlinewidth\": 0, \"ticks\": \"\"}, \"type\": \"contourcarpet\"}], \"heatmap\": [{\"colorbar\": {\"outlinewidth\": 0, \"ticks\": \"\"}, \"colorscale\": [[0.0, \"#0d0887\"], [0.1111111111111111, \"#46039f\"], [0.2222222222222222, \"#7201a8\"], [0.3333333333333333, \"#9c179e\"], [0.4444444444444444, \"#bd3786\"], [0.5555555555555556, \"#d8576b\"], [0.6666666666666666, \"#ed7953\"], [0.7777777777777778, \"#fb9f3a\"], [0.8888888888888888, \"#fdca26\"], [1.0, \"#f0f921\"]], \"type\": \"heatmap\"}], \"heatmapgl\": [{\"colorbar\": {\"outlinewidth\": 0, \"ticks\": \"\"}, \"colorscale\": [[0.0, \"#0d0887\"], [0.1111111111111111, \"#46039f\"], [0.2222222222222222, \"#7201a8\"], [0.3333333333333333, \"#9c179e\"], [0.4444444444444444, \"#bd3786\"], [0.5555555555555556, \"#d8576b\"], [0.6666666666666666, \"#ed7953\"], [0.7777777777777778, \"#fb9f3a\"], [0.8888888888888888, \"#fdca26\"], [1.0, \"#f0f921\"]], \"type\": \"heatmapgl\"}], \"histogram\": [{\"marker\": {\"colorbar\": {\"outlinewidth\": 0, \"ticks\": \"\"}}, \"type\": \"histogram\"}], \"histogram2d\": [{\"colorbar\": {\"outlinewidth\": 0, \"ticks\": \"\"}, \"colorscale\": [[0.0, \"#0d0887\"], [0.1111111111111111, \"#46039f\"], [0.2222222222222222, \"#7201a8\"], [0.3333333333333333, \"#9c179e\"], [0.4444444444444444, \"#bd3786\"], [0.5555555555555556, \"#d8576b\"], [0.6666666666666666, \"#ed7953\"], [0.7777777777777778, \"#fb9f3a\"], [0.8888888888888888, \"#fdca26\"], [1.0, \"#f0f921\"]], \"type\": \"histogram2d\"}], \"histogram2dcontour\": [{\"colorbar\": {\"outlinewidth\": 0, \"ticks\": \"\"}, \"colorscale\": [[0.0, \"#0d0887\"], [0.1111111111111111, \"#46039f\"], [0.2222222222222222, \"#7201a8\"], [0.3333333333333333, \"#9c179e\"], [0.4444444444444444, \"#bd3786\"], [0.5555555555555556, \"#d8576b\"], [0.6666666666666666, \"#ed7953\"], [0.7777777777777778, \"#fb9f3a\"], [0.8888888888888888, \"#fdca26\"], [1.0, \"#f0f921\"]], \"type\": \"histogram2dcontour\"}], \"mesh3d\": [{\"colorbar\": {\"outlinewidth\": 0, \"ticks\": \"\"}, \"type\": \"mesh3d\"}], \"parcoords\": [{\"line\": {\"colorbar\": {\"outlinewidth\": 0, \"ticks\": \"\"}}, \"type\": \"parcoords\"}], \"pie\": [{\"automargin\": true, \"type\": \"pie\"}], \"scatter\": [{\"marker\": {\"colorbar\": {\"outlinewidth\": 0, \"ticks\": \"\"}}, \"type\": \"scatter\"}], \"scatter3d\": [{\"line\": {\"colorbar\": {\"outlinewidth\": 0, \"ticks\": \"\"}}, \"marker\": {\"colorbar\": {\"outlinewidth\": 0, \"ticks\": \"\"}}, \"type\": \"scatter3d\"}], \"scattercarpet\": [{\"marker\": {\"colorbar\": {\"outlinewidth\": 0, \"ticks\": \"\"}}, \"type\": \"scattercarpet\"}], \"scattergeo\": [{\"marker\": {\"colorbar\": {\"outlinewidth\": 0, \"ticks\": \"\"}}, \"type\": \"scattergeo\"}], \"scattergl\": [{\"marker\": {\"colorbar\": {\"outlinewidth\": 0, \"ticks\": \"\"}}, \"type\": \"scattergl\"}], \"scattermapbox\": [{\"marker\": {\"colorbar\": {\"outlinewidth\": 0, \"ticks\": \"\"}}, \"type\": \"scattermapbox\"}], \"scatterpolar\": [{\"marker\": {\"colorbar\": {\"outlinewidth\": 0, \"ticks\": \"\"}}, \"type\": \"scatterpolar\"}], \"scatterpolargl\": [{\"marker\": {\"colorbar\": {\"outlinewidth\": 0, \"ticks\": \"\"}}, \"type\": \"scatterpolargl\"}], \"scatterternary\": [{\"marker\": {\"colorbar\": {\"outlinewidth\": 0, \"ticks\": \"\"}}, \"type\": \"scatterternary\"}], \"surface\": [{\"colorbar\": {\"outlinewidth\": 0, \"ticks\": \"\"}, \"colorscale\": [[0.0, \"#0d0887\"], [0.1111111111111111, \"#46039f\"], [0.2222222222222222, \"#7201a8\"], [0.3333333333333333, \"#9c179e\"], [0.4444444444444444, \"#bd3786\"], [0.5555555555555556, \"#d8576b\"], [0.6666666666666666, \"#ed7953\"], [0.7777777777777778, \"#fb9f3a\"], [0.8888888888888888, \"#fdca26\"], [1.0, \"#f0f921\"]], \"type\": \"surface\"}], \"table\": [{\"cells\": {\"fill\": {\"color\": \"#EBF0F8\"}, \"line\": {\"color\": \"white\"}}, \"header\": {\"fill\": {\"color\": \"#C8D4E3\"}, \"line\": {\"color\": \"white\"}}, \"type\": \"table\"}]}, \"layout\": {\"annotationdefaults\": {\"arrowcolor\": \"#2a3f5f\", \"arrowhead\": 0, \"arrowwidth\": 1}, \"coloraxis\": {\"colorbar\": {\"outlinewidth\": 0, \"ticks\": \"\"}}, \"colorscale\": {\"diverging\": [[0, \"#8e0152\"], [0.1, \"#c51b7d\"], [0.2, \"#de77ae\"], [0.3, \"#f1b6da\"], [0.4, \"#fde0ef\"], [0.5, \"#f7f7f7\"], [0.6, \"#e6f5d0\"], [0.7, \"#b8e186\"], [0.8, \"#7fbc41\"], [0.9, \"#4d9221\"], [1, \"#276419\"]], \"sequential\": [[0.0, \"#0d0887\"], [0.1111111111111111, \"#46039f\"], [0.2222222222222222, \"#7201a8\"], [0.3333333333333333, \"#9c179e\"], [0.4444444444444444, \"#bd3786\"], [0.5555555555555556, \"#d8576b\"], [0.6666666666666666, \"#ed7953\"], [0.7777777777777778, \"#fb9f3a\"], [0.8888888888888888, \"#fdca26\"], [1.0, \"#f0f921\"]], \"sequentialminus\": [[0.0, \"#0d0887\"], [0.1111111111111111, \"#46039f\"], [0.2222222222222222, \"#7201a8\"], [0.3333333333333333, \"#9c179e\"], [0.4444444444444444, \"#bd3786\"], [0.5555555555555556, \"#d8576b\"], [0.6666666666666666, \"#ed7953\"], [0.7777777777777778, \"#fb9f3a\"], [0.8888888888888888, \"#fdca26\"], [1.0, \"#f0f921\"]]}, \"colorway\": [\"#636efa\", \"#EF553B\", \"#00cc96\", \"#ab63fa\", \"#FFA15A\", \"#19d3f3\", \"#FF6692\", \"#B6E880\", \"#FF97FF\", \"#FECB52\"], \"font\": {\"color\": \"#2a3f5f\"}, \"geo\": {\"bgcolor\": \"white\", \"lakecolor\": \"white\", \"landcolor\": \"#E5ECF6\", \"showlakes\": true, \"showland\": true, \"subunitcolor\": \"white\"}, \"hoverlabel\": {\"align\": \"left\"}, \"hovermode\": \"closest\", \"mapbox\": {\"style\": \"light\"}, \"paper_bgcolor\": \"white\", \"plot_bgcolor\": \"#E5ECF6\", \"polar\": {\"angularaxis\": {\"gridcolor\": \"white\", \"linecolor\": \"white\", \"ticks\": \"\"}, \"bgcolor\": \"#E5ECF6\", \"radialaxis\": {\"gridcolor\": \"white\", \"linecolor\": \"white\", \"ticks\": \"\"}}, \"scene\": {\"xaxis\": {\"backgroundcolor\": \"#E5ECF6\", \"gridcolor\": \"white\", \"gridwidth\": 2, \"linecolor\": \"white\", \"showbackground\": true, \"ticks\": \"\", \"zerolinecolor\": \"white\"}, \"yaxis\": {\"backgroundcolor\": \"#E5ECF6\", \"gridcolor\": \"white\", \"gridwidth\": 2, \"linecolor\": \"white\", \"showbackground\": true, \"ticks\": \"\", \"zerolinecolor\": \"white\"}, \"zaxis\": {\"backgroundcolor\": \"#E5ECF6\", \"gridcolor\": \"white\", \"gridwidth\": 2, \"linecolor\": \"white\", \"showbackground\": true, \"ticks\": \"\", \"zerolinecolor\": \"white\"}}, \"shapedefaults\": {\"line\": {\"color\": \"#2a3f5f\"}}, \"ternary\": {\"aaxis\": {\"gridcolor\": \"white\", \"linecolor\": \"white\", \"ticks\": \"\"}, \"baxis\": {\"gridcolor\": \"white\", \"linecolor\": \"white\", \"ticks\": \"\"}, \"bgcolor\": \"#E5ECF6\", \"caxis\": {\"gridcolor\": \"white\", \"linecolor\": \"white\", \"ticks\": \"\"}}, \"title\": {\"x\": 0.05}, \"xaxis\": {\"automargin\": true, \"gridcolor\": \"white\", \"linecolor\": \"white\", \"ticks\": \"\", \"title\": {\"standoff\": 15}, \"zerolinecolor\": \"white\", \"zerolinewidth\": 2}, \"yaxis\": {\"automargin\": true, \"gridcolor\": \"white\", \"linecolor\": \"white\", \"ticks\": \"\", \"title\": {\"standoff\": 15}, \"zerolinecolor\": \"white\", \"zerolinewidth\": 2}}}, \"xaxis\": {\"anchor\": \"y\", \"domain\": [0.0, 1.0], \"title\": {\"text\": \"Name\"}}, \"yaxis\": {\"anchor\": \"x\", \"domain\": [0.0, 1.0], \"title\": {\"text\": \"Value\"}}},\n",
       "                        {\"responsive\": true}\n",
       "                    ).then(function(){\n",
       "                            \n",
       "var gd = document.getElementById('3bfc5257-ec0f-427b-a115-0a0a5c0e96bf');\n",
       "var x = new MutationObserver(function (mutations, observer) {{\n",
       "        var display = window.getComputedStyle(gd).display;\n",
       "        if (!display || display === 'none') {{\n",
       "            console.log([gd, 'removed!']);\n",
       "            Plotly.purge(gd);\n",
       "            observer.disconnect();\n",
       "        }}\n",
       "}});\n",
       "\n",
       "// Listen for the removal of the full notebook cells\n",
       "var notebookContainer = gd.closest('#notebook-container');\n",
       "if (notebookContainer) {{\n",
       "    x.observe(notebookContainer, {childList: true});\n",
       "}}\n",
       "\n",
       "// Listen for the clearing of the current output cell\n",
       "var outputEl = gd.closest('.output');\n",
       "if (outputEl) {{\n",
       "    x.observe(outputEl, {childList: true});\n",
       "}}\n",
       "\n",
       "                        })\n",
       "                };\n",
       "                });\n",
       "            </script>\n",
       "        </div>"
      ]
     },
     "metadata": {},
     "output_type": "display_data"
    }
   ],
   "source": [
    "print('DISTRIBUTION OF VALUES')\n",
    "sns.violinplot(data=data['Value'], orient='h')\n",
    "plt.show()\n",
    "\n",
    "print('TOP 5 MOST VALUABLE PLAYERS')\n",
    "df = data.copy()\n",
    "df = df.sort_values('Value').tail()\n",
    "df.plot(kind='bar',x='Name',y='Value',color='Potential')"
   ]
  },
  {
   "cell_type": "code",
   "execution_count": 7,
   "metadata": {
    "_kg_hide-input": true
   },
   "outputs": [
    {
     "name": "stdout",
     "output_type": "stream",
     "text": [
      "DISTRIBUTION OF WAGES\n"
     ]
    },
    {
     "data": {
      "image/png": "[encoded data removed]",
      "text/plain": [
       "<Figure size 576x360 with 1 Axes>"
      ]
     },
     "metadata": {},
     "output_type": "display_data"
    },
    {
     "name": "stdout",
     "output_type": "stream",
     "text": [
      "TOP 5 PLAYERS with HIGHEST WAGES\n"
     ]
    },
    {
     "data": {
      "text/html": [
       "<div>\n",
       "        \n",
       "        \n",
       "            <div id=\"acd60892-7f32-4847-8030-048186bcf8de\" class=\"plotly-graph-div\" style=\"height:525px; width:100%;\"></div>\n",
       "            <script type=\"text/javascript\">\n",
       "                require([\"plotly\"], function(Plotly) {\n",
       "                    window.PLOTLYENV=window.PLOTLYENV || {};\n",
       "                    \n",
       "                if (document.getElementById(\"acd60892-7f32-4847-8030-048186bcf8de\")) {\n",
       "                    Plotly.newPlot(\n",
       "                        'acd60892-7f32-4847-8030-048186bcf8de',\n",
       "                        [{\"alignmentgroup\": \"True\", \"hovertemplate\": \"Name=%{x}<br>Wage=%{y}<br>Value=%{marker.color}<extra></extra>\", \"legendgroup\": \"\", \"marker\": {\"color\": [51000000.0, 77000000.0, 67000000.0, 80000000.0, 110500000.0], \"coloraxis\": \"coloraxis\"}, \"name\": \"\", \"offsetgroup\": \"\", \"orientation\": \"v\", \"showlegend\": false, \"textposition\": \"auto\", \"type\": \"bar\", \"x\": [\"Sergio Ramos\", \"Cristiano Ronaldo\", \"L. Modri\\u0107\", \"L. Su\\u00e1rez\", \"L. Messi\"], \"xaxis\": \"x\", \"y\": [380000.0, 405000.0, 420000.0, 455000.0, 565000.0], \"yaxis\": \"y\"}],\n",
       "                        {\"barmode\": \"relative\", \"coloraxis\": {\"colorbar\": {\"title\": {\"text\": \"Value\"}}, \"colorscale\": [[0.0, \"#0d0887\"], [0.1111111111111111, \"#46039f\"], [0.2222222222222222, \"#7201a8\"], [0.3333333333333333, \"#9c179e\"], [0.4444444444444444, \"#bd3786\"], [0.5555555555555556, \"#d8576b\"], [0.6666666666666666, \"#ed7953\"], [0.7777777777777778, \"#fb9f3a\"], [0.8888888888888888, \"#fdca26\"], [1.0, \"#f0f921\"]]}, \"legend\": {\"tracegroupgap\": 0}, \"margin\": {\"t\": 60}, \"template\": {\"data\": {\"bar\": [{\"error_x\": {\"color\": \"#2a3f5f\"}, \"error_y\": {\"color\": \"#2a3f5f\"}, \"marker\": {\"line\": {\"color\": \"#E5ECF6\", \"width\": 0.5}}, \"type\": \"bar\"}], \"barpolar\": [{\"marker\": {\"line\": {\"color\": \"#E5ECF6\", \"width\": 0.5}}, \"type\": \"barpolar\"}], \"carpet\": [{\"aaxis\": {\"endlinecolor\": \"#2a3f5f\", \"gridcolor\": \"white\", \"linecolor\": \"white\", \"minorgridcolor\": \"white\", \"startlinecolor\": \"#2a3f5f\"}, \"baxis\": {\"endlinecolor\": \"#2a3f5f\", \"gridcolor\": \"white\", \"linecolor\": \"white\", \"minorgridcolor\": \"white\", \"startlinecolor\": \"#2a3f5f\"}, \"type\": \"carpet\"}], \"choropleth\": [{\"colorbar\": {\"outlinewidth\": 0, \"ticks\": \"\"}, \"type\": \"choropleth\"}], \"contour\": [{\"colorbar\": {\"outlinewidth\": 0, \"ticks\": \"\"}, \"colorscale\": [[0.0, \"#0d0887\"], [0.1111111111111111, \"#46039f\"], [0.2222222222222222, \"#7201a8\"], [0.3333333333333333, \"#9c179e\"], [0.4444444444444444, \"#bd3786\"], [0.5555555555555556, \"#d8576b\"], [0.6666666666666666, \"#ed7953\"], [0.7777777777777778, \"#fb9f3a\"], [0.8888888888888888, \"#fdca26\"], [1.0, \"#f0f921\"]], \"type\": \"contour\"}], \"contourcarpet\": [{\"colorbar\": {\"outlinewidth\": 0, \"ticks\": \"\"}, \"type\": \"contourcarpet\"}], \"heatmap\": [{\"colorbar\": {\"outlinewidth\": 0, \"ticks\": \"\"}, \"colorscale\": [[0.0, \"#0d0887\"], [0.1111111111111111, \"#46039f\"], [0.2222222222222222, \"#7201a8\"], [0.3333333333333333, \"#9c179e\"], [0.4444444444444444, \"#bd3786\"], [0.5555555555555556, \"#d8576b\"], [0.6666666666666666, \"#ed7953\"], [0.7777777777777778, \"#fb9f3a\"], [0.8888888888888888, \"#fdca26\"], [1.0, \"#f0f921\"]], \"type\": \"heatmap\"}], \"heatmapgl\": [{\"colorbar\": {\"outlinewidth\": 0, \"ticks\": \"\"}, \"colorscale\": [[0.0, \"#0d0887\"], [0.1111111111111111, \"#46039f\"], [0.2222222222222222, \"#7201a8\"], [0.3333333333333333, \"#9c179e\"], [0.4444444444444444, \"#bd3786\"], [0.5555555555555556, \"#d8576b\"], [0.6666666666666666, \"#ed7953\"], [0.7777777777777778, \"#fb9f3a\"], [0.8888888888888888, \"#fdca26\"], [1.0, \"#f0f921\"]], \"type\": \"heatmapgl\"}], \"histogram\": [{\"marker\": {\"colorbar\": {\"outlinewidth\": 0, \"ticks\": \"\"}}, \"type\": \"histogram\"}], \"histogram2d\": [{\"colorbar\": {\"outlinewidth\": 0, \"ticks\": \"\"}, \"colorscale\": [[0.0, \"#0d0887\"], [0.1111111111111111, \"#46039f\"], [0.2222222222222222, \"#7201a8\"], [0.3333333333333333, \"#9c179e\"], [0.4444444444444444, \"#bd3786\"], [0.5555555555555556, \"#d8576b\"], [0.6666666666666666, \"#ed7953\"], [0.7777777777777778, \"#fb9f3a\"], [0.8888888888888888, \"#fdca26\"], [1.0, \"#f0f921\"]], \"type\": \"histogram2d\"}], \"histogram2dcontour\": [{\"colorbar\": {\"outlinewidth\": 0, \"ticks\": \"\"}, \"colorscale\": [[0.0, \"#0d0887\"], [0.1111111111111111, \"#46039f\"], [0.2222222222222222, \"#7201a8\"], [0.3333333333333333, \"#9c179e\"], [0.4444444444444444, \"#bd3786\"], [0.5555555555555556, \"#d8576b\"], [0.6666666666666666, \"#ed7953\"], [0.7777777777777778, \"#fb9f3a\"], [0.8888888888888888, \"#fdca26\"], [1.0, \"#f0f921\"]], \"type\": \"histogram2dcontour\"}], \"mesh3d\": [{\"colorbar\": {\"outlinewidth\": 0, \"ticks\": \"\"}, \"type\": \"mesh3d\"}], \"parcoords\": [{\"line\": {\"colorbar\": {\"outlinewidth\": 0, \"ticks\": \"\"}}, \"type\": \"parcoords\"}], \"pie\": [{\"automargin\": true, \"type\": \"pie\"}], \"scatter\": [{\"marker\": {\"colorbar\": {\"outlinewidth\": 0, \"ticks\": \"\"}}, \"type\": \"scatter\"}], \"scatter3d\": [{\"line\": {\"colorbar\": {\"outlinewidth\": 0, \"ticks\": \"\"}}, \"marker\": {\"colorbar\": {\"outlinewidth\": 0, \"ticks\": \"\"}}, \"type\": \"scatter3d\"}], \"scattercarpet\": [{\"marker\": {\"colorbar\": {\"outlinewidth\": 0, \"ticks\": \"\"}}, \"type\": \"scattercarpet\"}], \"scattergeo\": [{\"marker\": {\"colorbar\": {\"outlinewidth\": 0, \"ticks\": \"\"}}, \"type\": \"scattergeo\"}], \"scattergl\": [{\"marker\": {\"colorbar\": {\"outlinewidth\": 0, \"ticks\": \"\"}}, \"type\": \"scattergl\"}], \"scattermapbox\": [{\"marker\": {\"colorbar\": {\"outlinewidth\": 0, \"ticks\": \"\"}}, \"type\": \"scattermapbox\"}], \"scatterpolar\": [{\"marker\": {\"colorbar\": {\"outlinewidth\": 0, \"ticks\": \"\"}}, \"type\": \"scatterpolar\"}], \"scatterpolargl\": [{\"marker\": {\"colorbar\": {\"outlinewidth\": 0, \"ticks\": \"\"}}, \"type\": \"scatterpolargl\"}], \"scatterternary\": [{\"marker\": {\"colorbar\": {\"outlinewidth\": 0, \"ticks\": \"\"}}, \"type\": \"scatterternary\"}], \"surface\": [{\"colorbar\": {\"outlinewidth\": 0, \"ticks\": \"\"}, \"colorscale\": [[0.0, \"#0d0887\"], [0.1111111111111111, \"#46039f\"], [0.2222222222222222, \"#7201a8\"], [0.3333333333333333, \"#9c179e\"], [0.4444444444444444, \"#bd3786\"], [0.5555555555555556, \"#d8576b\"], [0.6666666666666666, \"#ed7953\"], [0.7777777777777778, \"#fb9f3a\"], [0.8888888888888888, \"#fdca26\"], [1.0, \"#f0f921\"]], \"type\": \"surface\"}], \"table\": [{\"cells\": {\"fill\": {\"color\": \"#EBF0F8\"}, \"line\": {\"color\": \"white\"}}, \"header\": {\"fill\": {\"color\": \"#C8D4E3\"}, \"line\": {\"color\": \"white\"}}, \"type\": \"table\"}]}, \"layout\": {\"annotationdefaults\": {\"arrowcolor\": \"#2a3f5f\", \"arrowhead\": 0, \"arrowwidth\": 1}, \"coloraxis\": {\"colorbar\": {\"outlinewidth\": 0, \"ticks\": \"\"}}, \"colorscale\": {\"diverging\": [[0, \"#8e0152\"], [0.1, \"#c51b7d\"], [0.2, \"#de77ae\"], [0.3, \"#f1b6da\"], [0.4, \"#fde0ef\"], [0.5, \"#f7f7f7\"], [0.6, \"#e6f5d0\"], [0.7, \"#b8e186\"], [0.8, \"#7fbc41\"], [0.9, \"#4d9221\"], [1, \"#276419\"]], \"sequential\": [[0.0, \"#0d0887\"], [0.1111111111111111, \"#46039f\"], [0.2222222222222222, \"#7201a8\"], [0.3333333333333333, \"#9c179e\"], [0.4444444444444444, \"#bd3786\"], [0.5555555555555556, \"#d8576b\"], [0.6666666666666666, \"#ed7953\"], [0.7777777777777778, \"#fb9f3a\"], [0.8888888888888888, \"#fdca26\"], [1.0, \"#f0f921\"]], \"sequentialminus\": [[0.0, \"#0d0887\"], [0.1111111111111111, \"#46039f\"], [0.2222222222222222, \"#7201a8\"], [0.3333333333333333, \"#9c179e\"], [0.4444444444444444, \"#bd3786\"], [0.5555555555555556, \"#d8576b\"], [0.6666666666666666, \"#ed7953\"], [0.7777777777777778, \"#fb9f3a\"], [0.8888888888888888, \"#fdca26\"], [1.0, \"#f0f921\"]]}, \"colorway\": [\"#636efa\", \"#EF553B\", \"#00cc96\", \"#ab63fa\", \"#FFA15A\", \"#19d3f3\", \"#FF6692\", \"#B6E880\", \"#FF97FF\", \"#FECB52\"], \"font\": {\"color\": \"#2a3f5f\"}, \"geo\": {\"bgcolor\": \"white\", \"lakecolor\": \"white\", \"landcolor\": \"#E5ECF6\", \"showlakes\": true, \"showland\": true, \"subunitcolor\": \"white\"}, \"hoverlabel\": {\"align\": \"left\"}, \"hovermode\": \"closest\", \"mapbox\": {\"style\": \"light\"}, \"paper_bgcolor\": \"white\", \"plot_bgcolor\": \"#E5ECF6\", \"polar\": {\"angularaxis\": {\"gridcolor\": \"white\", \"linecolor\": \"white\", \"ticks\": \"\"}, \"bgcolor\": \"#E5ECF6\", \"radialaxis\": {\"gridcolor\": \"white\", \"linecolor\": \"white\", \"ticks\": \"\"}}, \"scene\": {\"xaxis\": {\"backgroundcolor\": \"#E5ECF6\", \"gridcolor\": \"white\", \"gridwidth\": 2, \"linecolor\": \"white\", \"showbackground\": true, \"ticks\": \"\", \"zerolinecolor\": \"white\"}, \"yaxis\": {\"backgroundcolor\": \"#E5ECF6\", \"gridcolor\": \"white\", \"gridwidth\": 2, \"linecolor\": \"white\", \"showbackground\": true, \"ticks\": \"\", \"zerolinecolor\": \"white\"}, \"zaxis\": {\"backgroundcolor\": \"#E5ECF6\", \"gridcolor\": \"white\", \"gridwidth\": 2, \"linecolor\": \"white\", \"showbackground\": true, \"ticks\": \"\", \"zerolinecolor\": \"white\"}}, \"shapedefaults\": {\"line\": {\"color\": \"#2a3f5f\"}}, \"ternary\": {\"aaxis\": {\"gridcolor\": \"white\", \"linecolor\": \"white\", \"ticks\": \"\"}, \"baxis\": {\"gridcolor\": \"white\", \"linecolor\": \"white\", \"ticks\": \"\"}, \"bgcolor\": \"#E5ECF6\", \"caxis\": {\"gridcolor\": \"white\", \"linecolor\": \"white\", \"ticks\": \"\"}}, \"title\": {\"x\": 0.05}, \"xaxis\": {\"automargin\": true, \"gridcolor\": \"white\", \"linecolor\": \"white\", \"ticks\": \"\", \"title\": {\"standoff\": 15}, \"zerolinecolor\": \"white\", \"zerolinewidth\": 2}, \"yaxis\": {\"automargin\": true, \"gridcolor\": \"white\", \"linecolor\": \"white\", \"ticks\": \"\", \"title\": {\"standoff\": 15}, \"zerolinecolor\": \"white\", \"zerolinewidth\": 2}}}, \"xaxis\": {\"anchor\": \"y\", \"domain\": [0.0, 1.0], \"title\": {\"text\": \"Name\"}}, \"yaxis\": {\"anchor\": \"x\", \"domain\": [0.0, 1.0], \"title\": {\"text\": \"Wage\"}}},\n",
       "                        {\"responsive\": true}\n",
       "                    ).then(function(){\n",
       "                            \n",
       "var gd = document.getElementById('acd60892-7f32-4847-8030-048186bcf8de');\n",
       "var x = new MutationObserver(function (mutations, observer) {{\n",
       "        var display = window.getComputedStyle(gd).display;\n",
       "        if (!display || display === 'none') {{\n",
       "            console.log([gd, 'removed!']);\n",
       "            Plotly.purge(gd);\n",
       "            observer.disconnect();\n",
       "        }}\n",
       "}});\n",
       "\n",
       "// Listen for the removal of the full notebook cells\n",
       "var notebookContainer = gd.closest('#notebook-container');\n",
       "if (notebookContainer) {{\n",
       "    x.observe(notebookContainer, {childList: true});\n",
       "}}\n",
       "\n",
       "// Listen for the clearing of the current output cell\n",
       "var outputEl = gd.closest('.output');\n",
       "if (outputEl) {{\n",
       "    x.observe(outputEl, {childList: true});\n",
       "}}\n",
       "\n",
       "                        })\n",
       "                };\n",
       "                });\n",
       "            </script>\n",
       "        </div>"
      ]
     },
     "metadata": {},
     "output_type": "display_data"
    }
   ],
   "source": [
    "print('DISTRIBUTION OF WAGES')\n",
    "sns.violinplot(data=data['Wage'], orient='h')\n",
    "plt.show()\n",
    "\n",
    "print('TOP 5 PLAYERS with HIGHEST WAGES')\n",
    "df = data.copy()\n",
    "df = df.sort_values('Wage').tail()\n",
    "df.plot(kind='bar',x='Name',y='Wage',color='Value')"
   ]
  },
  {
   "cell_type": "code",
   "execution_count": null,
   "metadata": {},
   "outputs": [],
   "source": []
  }
 ],
 "metadata": {
  "kernelspec": {
   "display_name": "Python 3",
   "language": "python",
   "name": "python3"
  },
  "language_info": {
   "codemirror_mode": {
    "name": "ipython",
    "version": 3
   },
   "file_extension": ".py",
   "mimetype": "text/x-python",
   "name": "python",
   "nbconvert_exporter": "python",
   "pygments_lexer": "ipython3",
   "version": "3.7.6"
  }
 },
 "nbformat": 4,
 "nbformat_minor": 4
}
